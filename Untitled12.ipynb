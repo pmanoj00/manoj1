{
  "nbformat": 4,
  "nbformat_minor": 0,
  "metadata": {
    "colab": {
      "provenance": [],
      "authorship_tag": "ABX9TyMJyZJx7Ple8mQkXU8oFUYj",
      "include_colab_link": true
    },
    "kernelspec": {
      "name": "python3",
      "display_name": "Python 3"
    },
    "language_info": {
      "name": "python"
    }
  },
  "cells": [
    {
      "cell_type": "markdown",
      "metadata": {
        "id": "view-in-github",
        "colab_type": "text"
      },
      "source": [
        "<a href=\"https://colab.research.google.com/github/pmanoj00/manoj1/blob/main/Untitled12.ipynb\" target=\"_parent\"><img src=\"https://colab.research.google.com/assets/colab-badge.svg\" alt=\"Open In Colab\"/></a>"
      ]
    },
    {
      "cell_type": "code",
      "source": [
        "import pandas as pd\n",
        "import numpy as np\n",
        "\n",
        "#to read the data in the csv file\n",
        "data = pd.read_csv(\"/content/ws.csv\")\n",
        "print(data,\"n\")\n",
        "\n",
        "#making an array of all the attributes\n",
        "d = np.array(data)[:,:-1]\n",
        "print(\"n The attributes are: \",d)\n",
        "\n",
        "#segragating the target that has positive and negative examples\n",
        "target = np.array(data)[:,-1]\n",
        "print(\"n The target is: \",target)\n",
        "\n",
        "#training function to implement find-s algorithm\n",
        "def train(c,t):\n",
        "    for i, val in enumerate(t):\n",
        "        if val == \"Yes\":\n",
        "            specific_hypothesis = c[i].copy()\n",
        "            break\n",
        "\n",
        "    for i, val in enumerate(c):\n",
        "        if t[i] == \"Yes\":\n",
        "            for x in range(len(specific_hypothesis)):\n",
        "                if val[x] != specific_hypothesis[x]:\n",
        "                    specific_hypothesis[x] = '?'\n",
        "                else:\n",
        "                    pass\n",
        "\n",
        "    return specific_hypothesis\n",
        "\n",
        "#obtaining the final hypothesis\n",
        "print(\"n The final hypothesis is:\",train(d,target))\n"
      ],
      "metadata": {
        "colab": {
          "base_uri": "https://localhost:8080/"
        },
        "id": "RNIJfyRlcaQC",
        "outputId": "33d10f27-43af-4d44-9368-75bc83b6e76e"
      },
      "execution_count": 17,
      "outputs": [
        {
          "output_type": "stream",
          "name": "stdout",
          "text": [
            "   Sunny  Warm Normal  Strong Warm.1    Same  Yes\n",
            "0  Sunny  Warm   High  Strong   Warm    Same  Yes\n",
            "1  Rainy  Cold   High  Strong   Warm  Change   No\n",
            "2  Sunny  Warm   High  Strong   Cool  Change  Yes n\n",
            "n The attributes are:  [['Sunny' 'Warm' 'High' 'Strong' 'Warm' 'Same']\n",
            " ['Rainy' 'Cold' 'High' 'Strong' 'Warm' 'Change']\n",
            " ['Sunny' 'Warm' 'High' 'Strong' 'Cool' 'Change']]\n",
            "n The target is:  ['Yes' 'No' 'Yes']\n",
            "n The final hypothesis is: ['Sunny' 'Warm' 'High' 'Strong' '?' '?']\n"
          ]
        }
      ]
    }
  ]
}